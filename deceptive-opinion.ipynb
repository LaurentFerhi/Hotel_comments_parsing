{
 "cells": [
  {
   "cell_type": "markdown",
   "metadata": {},
   "source": [
    "# Deceptive / truthful comments classifier"
   ]
  },
  {
   "cell_type": "code",
   "execution_count": 2,
   "metadata": {},
   "outputs": [],
   "source": [
    "import pandas as pd\n",
    "import numpy as np\n",
    "import pprint\n",
    "from time import time\n",
    "import pickle as pk\n",
    "import matplotlib.pyplot as plt\n",
    "import seaborn as sns\n",
    "%matplotlib inline\n",
    "\n",
    "# Style and size of graph\n",
    "sns.set_style(\"darkgrid\")"
   ]
  },
  {
   "cell_type": "markdown",
   "metadata": {},
   "source": [
    "### Importing the dataset"
   ]
  },
  {
   "cell_type": "code",
   "execution_count": 3,
   "metadata": {},
   "outputs": [
    {
     "data": {
      "text/html": [
       "<div>\n",
       "<style scoped>\n",
       "    .dataframe tbody tr th:only-of-type {\n",
       "        vertical-align: middle;\n",
       "    }\n",
       "\n",
       "    .dataframe tbody tr th {\n",
       "        vertical-align: top;\n",
       "    }\n",
       "\n",
       "    .dataframe thead th {\n",
       "        text-align: right;\n",
       "    }\n",
       "</style>\n",
       "<table border=\"1\" class=\"dataframe\">\n",
       "  <thead>\n",
       "    <tr style=\"text-align: right;\">\n",
       "      <th></th>\n",
       "      <th>deceptive</th>\n",
       "      <th>hotel</th>\n",
       "      <th>polarity</th>\n",
       "      <th>source</th>\n",
       "      <th>text</th>\n",
       "    </tr>\n",
       "  </thead>\n",
       "  <tbody>\n",
       "    <tr>\n",
       "      <th>0</th>\n",
       "      <td>truthful</td>\n",
       "      <td>conrad</td>\n",
       "      <td>positive</td>\n",
       "      <td>TripAdvisor</td>\n",
       "      <td>We stayed for a one night getaway with family ...</td>\n",
       "    </tr>\n",
       "    <tr>\n",
       "      <th>1</th>\n",
       "      <td>truthful</td>\n",
       "      <td>hyatt</td>\n",
       "      <td>positive</td>\n",
       "      <td>TripAdvisor</td>\n",
       "      <td>Triple A rate with upgrade to view room was le...</td>\n",
       "    </tr>\n",
       "    <tr>\n",
       "      <th>2</th>\n",
       "      <td>truthful</td>\n",
       "      <td>hyatt</td>\n",
       "      <td>positive</td>\n",
       "      <td>TripAdvisor</td>\n",
       "      <td>This comes a little late as I'm finally catchi...</td>\n",
       "    </tr>\n",
       "    <tr>\n",
       "      <th>3</th>\n",
       "      <td>truthful</td>\n",
       "      <td>omni</td>\n",
       "      <td>positive</td>\n",
       "      <td>TripAdvisor</td>\n",
       "      <td>The Omni Chicago really delivers on all fronts...</td>\n",
       "    </tr>\n",
       "    <tr>\n",
       "      <th>4</th>\n",
       "      <td>truthful</td>\n",
       "      <td>hyatt</td>\n",
       "      <td>positive</td>\n",
       "      <td>TripAdvisor</td>\n",
       "      <td>I asked for a high floor away from the elevato...</td>\n",
       "    </tr>\n",
       "  </tbody>\n",
       "</table>\n",
       "</div>"
      ],
      "text/plain": [
       "  deceptive   hotel  polarity       source  \\\n",
       "0  truthful  conrad  positive  TripAdvisor   \n",
       "1  truthful   hyatt  positive  TripAdvisor   \n",
       "2  truthful   hyatt  positive  TripAdvisor   \n",
       "3  truthful    omni  positive  TripAdvisor   \n",
       "4  truthful   hyatt  positive  TripAdvisor   \n",
       "\n",
       "                                                text  \n",
       "0  We stayed for a one night getaway with family ...  \n",
       "1  Triple A rate with upgrade to view room was le...  \n",
       "2  This comes a little late as I'm finally catchi...  \n",
       "3  The Omni Chicago really delivers on all fronts...  \n",
       "4  I asked for a high floor away from the elevato...  "
      ]
     },
     "execution_count": 3,
     "metadata": {},
     "output_type": "execute_result"
    }
   ],
   "source": [
    "df = pd.read_csv('deceptive-opinion.csv')\n",
    "df.head()"
   ]
  },
  {
   "cell_type": "markdown",
   "metadata": {},
   "source": [
    "### Text parser function\n",
    "Clean punctuation, split the text to invividual words, stemm word with english stemmer, remove specific stopwords if any."
   ]
  },
  {
   "cell_type": "code",
   "execution_count": 4,
   "metadata": {},
   "outputs": [],
   "source": [
    "from nltk.stem.snowball import SnowballStemmer\n",
    "import string\n",
    "\n",
    "def parseOutText(all_text):\n",
    "    ### clean punctuation\n",
    "    text_string = all_text.translate(str.maketrans(\"\", \"\", string.punctuation))   \n",
    "    ### split the text string into individual words, stem each word,\n",
    "    stemmer = SnowballStemmer(\"english\")\n",
    "    stemmed = [stemmer.stem(word) for  word in text_string.split()]\n",
    "    words = \" \".join(stemmed)    \n",
    "    ### use str.replace() to remove any instances of the stopwords\n",
    "    # to be completed with word to be removed\n",
    "    stopwords = []\n",
    "    for word in stopwords:            \n",
    "        words = words.replace(word, \"\")  \n",
    "    return words"
   ]
  },
  {
   "cell_type": "markdown",
   "metadata": {},
   "source": [
    "### List of words (text) and labels"
   ]
  },
  {
   "cell_type": "code",
   "execution_count": 5,
   "metadata": {},
   "outputs": [],
   "source": [
    "word_data = []\n",
    "deceptive_data = []\n",
    "\n",
    "for element in df['text']:\n",
    "    word_data.append(parseOutText(element))\n",
    "\n",
    "for val in df['deceptive']:\n",
    "    if val == 'truthful':\n",
    "        deceptive_data.append(0)\n",
    "    elif val == 'deceptive':\n",
    "        deceptive_data.append(1)\n",
    "    else:\n",
    "        deceptive_data.append(-1)\n",
    "        print('unexpected value:',val)"
   ]
  },
  {
   "cell_type": "markdown",
   "metadata": {},
   "source": [
    "### Vectorize function with Tfid\n",
    "Generating the train/test labels/features."
   ]
  },
  {
   "cell_type": "code",
   "execution_count": 6,
   "metadata": {},
   "outputs": [],
   "source": [
    "from sklearn.model_selection import train_test_split\n",
    "features_train, features_test, labels_train, labels_test = train_test_split(word_data, deceptive_data, test_size=0.3, random_state=42)\n",
    "\n",
    "# Tfid vectorizer of data\n",
    "from sklearn.feature_extraction.text import TfidfVectorizer\n",
    "vectorizer = TfidfVectorizer(sublinear_tf=True, max_df=0.5, stop_words = 'english')\n",
    "features_train = vectorizer.fit_transform(features_train)\n",
    "features_test  = vectorizer.transform(features_test).toarray()\n",
    "words = vectorizer.get_feature_names()\n",
    "features_train = features_train.toarray()"
   ]
  },
  {
   "cell_type": "markdown",
   "metadata": {},
   "source": [
    "### Check for patterns :  t-distributed Stochastic Neighbour Embedding"
   ]
  },
  {
   "cell_type": "code",
   "execution_count": 17,
   "metadata": {},
   "outputs": [],
   "source": [
    "from sklearn.manifold import TSNE\n",
    "\n",
    "X = features_train\n",
    "y = labels_train\n",
    "\n",
    "tsne = TSNE(\n",
    "    n_components=2,\n",
    "    init='pca',\n",
    "    random_state=0,\n",
    "    perplexity=50,\n",
    "    early_exaggeration=25,\n",
    "    n_iter=400\n",
    ")\n",
    "\n",
    "Tx = tsne.fit_transform(X)"
   ]
  },
  {
   "cell_type": "code",
   "execution_count": 18,
   "metadata": {},
   "outputs": [
    {
     "data": {
      "image/png": "[encoded data removed]",
      "text/plain": [
       "<Figure size 720x720 with 1 Axes>"
      ]
     },
     "metadata": {},
     "output_type": "display_data"
    }
   ],
   "source": [
    "import matplotlib.pyplot as plt\n",
    "\n",
    "plt.figure(figsize=(10,10)) \n",
    "\n",
    "plt.xticks([],[])\n",
    "plt.yticks([],[])\n",
    "for target in np.unique(y):\n",
    "    selection = y == target\n",
    "    X1, X2 = Tx[selection,0], Tx[selection,1]\n",
    "    c1, c2 = np.median(X1), np.median(X2)\n",
    "    plt.plot(X1, X2, 'o', ms=5)\n",
    "    plt.text(c1, c2, target, fontsize=18)"
   ]
  },
  {
   "cell_type": "markdown",
   "metadata": {},
   "source": [
    "### Machine learning classifier\n",
    "Classifier saved in pkl file"
   ]
  },
  {
   "cell_type": "code",
   "execution_count": 11,
   "metadata": {},
   "outputs": [
    {
     "name": "stdout",
     "output_type": "stream",
     "text": [
      " > training classifier:\n",
      "training time:  302.48 s\n",
      "testing time:  0.047 s\n",
      "\n",
      " > metrics evaluation:\n",
      "              precision    recall  f1-score   support\n",
      "\n",
      "           0       0.85      0.83      0.84       233\n",
      "           1       0.84      0.87      0.85       247\n",
      "\n",
      "    accuracy                           0.85       480\n",
      "   macro avg       0.85      0.85      0.85       480\n",
      "weighted avg       0.85      0.85      0.85       480\n",
      "\n",
      "\n",
      " > Best parameters:\n",
      "{'MLP__alpha': 1e-05, 'MLP__hidden_layer_sizes': (30, 30), 'MLP__max_iter': 500, 'MLP__random_state': 1, 'MLP__solver': 'adam'}\n",
      "\n",
      " > Classifier dumped\n"
     ]
    }
   ],
   "source": [
    "from sklearn.metrics import classification_report\n",
    "from sklearn.model_selection import StratifiedShuffleSplit\n",
    "from sklearn.preprocessing import StandardScaler\n",
    "from sklearn.feature_selection import SelectKBest, f_classif\n",
    "from sklearn.decomposition import PCA\n",
    "from sklearn.pipeline import Pipeline\n",
    "from sklearn.model_selection import GridSearchCV\n",
    "\n",
    "# cross-validator : Stratified ShuffleSplit \n",
    "from sklearn.model_selection import StratifiedShuffleSplit\n",
    "sss = StratifiedShuffleSplit(n_splits = 10, test_size = 0.3, random_state = 42)\n",
    "\n",
    "# Functions to be used in the pipeline\n",
    "skb = SelectKBest(f_classif)\n",
    "\n",
    "# avoid display warning in case ML does not reach convergence within maxiter\n",
    "from warnings import filterwarnings\n",
    "filterwarnings('ignore')\n",
    "\n",
    "\n",
    "# import Multi-layer Perceptron classifier\n",
    "from sklearn.neural_network import MLPClassifier\n",
    "clf = MLPClassifier()\n",
    "\n",
    "# definition of the pipeline\n",
    "pipeline = Pipeline(steps = [\n",
    "    (\"MLP\", clf)\n",
    "])\n",
    "\n",
    "# parameters to tune \n",
    "param_grid = {\n",
    "    \"MLP__solver\":['lbfgs','adam','sgd'],\n",
    "    \"MLP__alpha\":[1e-5],\n",
    "    \"MLP__hidden_layer_sizes\":[(30, 30)],\n",
    "    \"MLP__random_state\":[1],\n",
    "    \"MLP__max_iter\":[500],\n",
    "} \n",
    "\n",
    "# exhaustive search over specified parameter\n",
    "grid = GridSearchCV(pipeline, param_grid, verbose = 0, cv = sss)\n",
    "\n",
    "# training classifier\n",
    "print (\" > training classifier:\")\n",
    "t0 = time()\n",
    "grid.fit(features_train, labels_train)\n",
    "print (\"training time: \", round(time()-t0, 3), \"s\")\n",
    "\n",
    "# best classifier using the cross-validator and the Stratified Shuffle Split \n",
    "clf = grid.best_estimator_\n",
    "\n",
    "# predicition with the classifier\n",
    "t0 = time()\n",
    "pred = clf.predict(features_test)\n",
    "print (\"testing time: \", round(time()-t0, 3), \"s\")\n",
    "\n",
    "# evaluation metrics\n",
    "print (\"\\n > metrics evaluation:\")\n",
    "print (classification_report(labels_test, pred))\n",
    "\n",
    "# print grid parameters\n",
    "print (\"\\n > Best parameters:\")\n",
    "print (grid.best_params_)\n",
    "\n",
    "# dump classifier in a pickle file\n",
    "print (\"\\n > Classifier dumped\")\n",
    "with open(\"deceptive_classifier.pkl\", 'wb') as fid:\n",
    "    pk.dump(clf, fid)"
   ]
  },
  {
   "cell_type": "markdown",
   "metadata": {},
   "source": [
    "### Loading classifier"
   ]
  },
  {
   "cell_type": "code",
   "execution_count": 12,
   "metadata": {},
   "outputs": [],
   "source": [
    "# Load classifier\n",
    "with open(\"deceptive_classifier.pkl\", 'rb') as fid:\n",
    "    clf_trained = pk.load(fid)"
   ]
  },
  {
   "cell_type": "markdown",
   "metadata": {},
   "source": [
    "### Text to identify deceptive or truthful"
   ]
  },
  {
   "cell_type": "code",
   "execution_count": 13,
   "metadata": {},
   "outputs": [],
   "source": [
    "text_to_predict = \"This hotel is one superior hotel\""
   ]
  },
  {
   "cell_type": "markdown",
   "metadata": {},
   "source": [
    "### Results"
   ]
  },
  {
   "cell_type": "code",
   "execution_count": 14,
   "metadata": {},
   "outputs": [
    {
     "name": "stdout",
     "output_type": "stream",
     "text": [
      "Deceptive\n"
     ]
    }
   ],
   "source": [
    "prepared_text = parseOutText(text_to_predict)\n",
    "feat_array = vectorizer.transform([prepared_text]).toarray()\n",
    "\n",
    "# Display predictions\n",
    "result = clf_trained.predict(feat_array)[0]\n",
    "if result == 1:\n",
    "    print('Deceptive')\n",
    "else:\n",
    "    print('Truthful')"
   ]
  }
 ],
 "metadata": {
  "kernelspec": {
   "display_name": "Python 3",
   "language": "python",
   "name": "python3"
  },
  "language_info": {
   "codemirror_mode": {
    "name": "ipython",
    "version": 3
   },
   "file_extension": ".py",
   "mimetype": "text/x-python",
   "name": "python",
   "nbconvert_exporter": "python",
   "pygments_lexer": "ipython3",
   "version": "3.7.6"
  }
 },
 "nbformat": 4,
 "nbformat_minor": 4
}
